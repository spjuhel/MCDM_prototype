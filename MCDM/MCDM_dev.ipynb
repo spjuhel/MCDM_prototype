{
 "cells": [
  {
   "cell_type": "markdown",
   "metadata": {},
   "source": [
    "# Define the class DecisionMatrix"
   ]
  },
  {
   "cell_type": "code",
   "execution_count": 1,
   "metadata": {},
   "outputs": [],
   "source": [
    "from typing import Dict, List, Optional, Union\n",
    "import pandas as pd\n",
    "import numpy as np\n",
    "import copy\n",
    "import matplotlib.pyplot as plt\n",
    "import matplotlib.colors as mcolors"
   ]
  },
  {
   "cell_type": "code",
   "execution_count": 13,
   "metadata": {},
   "outputs": [],
   "source": [
    "class DecisionMatrix:\n",
    "    def __init__(\n",
    "        self,\n",
    "        metrics_df: pd.DataFrame,\n",
    "        objectives: Dict[str, int],\n",
    "        alt_cols: List[str],\n",
    "        crit_cols: List[str],\n",
    "        weights: Optional[Dict[str, float]] = None,\n",
    "        group_cols: Optional[List[str]] = [],\n",
    "        group_weights: Optional[Dict[str, float]] = None,\n",
    "        unc_cols: Optional[List[str]] = [],\n",
    "        crit_cats: Optional[Dict[str, List[str]]] = None\n",
    "    ):\n",
    "        \"\"\"\n",
    "        Initialize the DecisionMatrix object.\n",
    "\n",
    "        Parameters:\n",
    "        - metrics_df : pd.DataFrame\n",
    "            DataFrame containing metrics data.\n",
    "        - objectives : Dict[str, int]\n",
    "            Dictionary mapping objectives to their values.\n",
    "        - alt_cols : List[str]\n",
    "            List of alternative columns.\n",
    "        - crit_cols : List[str]\n",
    "            List of criteria columns.\n",
    "        - weights : Dict[str, float], optional\n",
    "            Dictionary of criteria weights values. Defaults to an empty dictionary.\n",
    "        - group_cols : List[str], optional\n",
    "            List of group columns. Defaults to an empty list.\n",
    "        - group_weights : Dict[str, float], optional\n",
    "            Dictionary of weights for group columns. Defaults to an empty dictionary.\n",
    "        - unc_cols : List[str], optional\n",
    "            List of uncertainty columns. Defaults to an empty list.\n",
    "        - crit_cats : Dict[str, List[str]], optional\n",
    "            Dictionary of categorized criteria. Defaults to an empty dictionary.\n",
    "        \"\"\"\n",
    "        \n",
    "        # Assign input parameters to class attributes as copies\n",
    "        self.metrics_df = metrics_df.copy()\n",
    "        self.objectives = copy.deepcopy(objectives)\n",
    "        self.alt_cols = alt_cols.copy()\n",
    "        self.crit_cols = crit_cols.copy()\n",
    "        self.weights = weights.copy() if weights is not None else {}\n",
    "        self.group_cols = group_cols.copy() if group_cols is not None else []\n",
    "        self.group_weights = group_weights.copy() if group_weights is not None else {}\n",
    "        self.unc_cols = unc_cols.copy() if unc_cols is not None else []\n",
    "        self.crit_cats = crit_cats.copy() if crit_cats is not None else {}\n",
    "\n",
    "        # Initialize dataframes – Attributes to store dataframes used for calculations and organization\n",
    "        self.initialize_dataframes()\n",
    "\n",
    "\n",
    "    def initialize_dataframes(self):\n",
    "        self.dm_df = None # Decision matrix dataframe\n",
    "        self.alternatives_df = None # Alternatives dataframe\n",
    "        self.crit_df = None # Criteria dataframe\n",
    "        self.cat_crit_df = None # Categorized criteria dataframe\n",
    "        self.groups_df = None # Groups dataframe\n",
    "        self.unc_smpls_df = None # Uncertainty samples dataframe\n",
    "\n",
    "\n"
   ]
  },
  {
   "cell_type": "markdown",
   "metadata": {},
   "source": [
    "## Bike example"
   ]
  },
  {
   "cell_type": "code",
   "execution_count": 17,
   "metadata": {},
   "outputs": [
    {
     "name": "stdout",
     "output_type": "stream",
     "text": [
      "The DataFrame as tabular data:\n",
      "+---+--------+--------------+------------+----------------------------+------------------+------------------------------+--------------------+\n",
      "|   |  Bike  | Manufacturer | Cost (CHF) | Design (# friends approve) | Max Speed (km/h) | Comfort (Minutes until pain) | Durability (Years) |\n",
      "+---+--------+--------------+------------+----------------------------+------------------+------------------------------+--------------------+\n",
      "| 0 | Bike 1 |   Brand A    |    100     |             3              |       25.1       |              60              |         5          |\n",
      "| 1 | Bike 2 |   Brand B    |    500     |             7              |       42.5       |              20              |         3          |\n",
      "| 2 | Bike 3 |   Brand A    |    1000    |             1              |       62.0       |              5               |         10         |\n",
      "| 3 | Bike 4 |   Brand C    |    700     |             5              |       30.0       |              30              |         4          |\n",
      "| 4 | Bike 5 |   Brand B    |    300     |             4              |       50.0       |              50              |         8          |\n",
      "| 5 | Bike 6 |   Brand D    |    200     |             6              |       40.0       |              45              |         6          |\n",
      "+---+--------+--------------+------------+----------------------------+------------------+------------------------------+--------------------+\n"
     ]
    }
   ],
   "source": [
    "import pandas as pd\n",
    "import tabulate as tb\n",
    "\n",
    "# Define the data with more common brand names and some duplicates\n",
    "data = {\n",
    "    \"Bike\": [\"Bike 1\", \"Bike 2\", \"Bike 3\", \"Bike 4\", \"Bike 5\", \"Bike 6\"],\n",
    "    \"Manufacturer\": [\"Brand A\", \"Brand B\", \"Brand A\", \"Brand C\", \"Brand B\", \"Brand D\"],\n",
    "    \"Cost (CHF)\": [100, 500, 1000, 700, 300, 200],\n",
    "    \"Design (# friends approve)\": [3, 7, 1, 5, 4, 6],\n",
    "    \"Max Speed (km/h)\": [25.1, 42.5, 62, 30, 50, 40],\n",
    "    \"Comfort (Minutes until pain)\": [60, 20, 5, 30, 50, 45],\n",
    "    \"Durability (Years)\": [5, 3, 10, 4, 8, 6]\n",
    "}\n",
    "\n",
    "# Create the DataFrame\n",
    "df = pd.DataFrame(data)\n",
    "\n",
    "# Display the DataFrame as tabular data\n",
    "print('The DataFrame as tabular data:')\n",
    "print(tb.tabulate(df, headers='keys', tablefmt='pretty'))\n"
   ]
  },
  {
   "cell_type": "markdown",
   "metadata": {},
   "source": [
    "## Try the class"
   ]
  },
  {
   "cell_type": "markdown",
   "metadata": {},
   "source": [
    "### Define the parameters"
   ]
  },
  {
   "cell_type": "code",
   "execution_count": 16,
   "metadata": {},
   "outputs": [
    {
     "name": "stdout",
     "output_type": "stream",
     "text": [
      "The decision matrix:\n",
      "\n"
     ]
    }
   ],
   "source": [
    "# *************** User-modifiable parameters ***************\n",
    "\n",
    "# Define the columns for alternatives and criteria\n",
    "alt_cols = [\"Bike\"]\n",
    "crit_cols = [\"Cost (CHF)\", \"Design (# friends approve)\", \"Max Speed (km/h)\", \"Comfort (Minutes until pain)\", \"Durability (Years)\"]\n",
    "\n",
    "# Define weights \n",
    "weights = {\n",
    "    \"Cost (CHF)\": 0.30,\n",
    "    \"Design (# friends approve)\": 0.20,\n",
    "    \"Max Speed (km/h)\": 0.20,\n",
    "    \"Comfort (Minutes until pain)\": 0.10,\n",
    "    \"Durability (Years)\": 0.20\n",
    "}\n",
    "\n",
    "# Define the objectives\n",
    "objectives = {\n",
    "    \"Cost (CHF)\": -1,  # Minimize\n",
    "    \"Design (# friends approve)\": 1,  # Maximize\n",
    "    \"Max Speed (km/h)\": 1,  # Maximize\n",
    "    \"Comfort (Minutes until pain)\": 1,  # Maximize\n",
    "    \"Durability (Years)\": 1  # Maximize\n",
    "}\n",
    "\n",
    "# *************** End of user-modifiable parameters ***************\n",
    "\n",
    "# Generate the decision matrix – Initialize the decision matrix object\n",
    "dm = DecisionMatrix(\n",
    "    metrics_df=df,\n",
    "    objectives=objectives,\n",
    "    alt_cols=alt_cols,\n",
    "    crit_cols=crit_cols,\n",
    "    weights=weights\n",
    ")\n",
    "\n",
    "# Display the decision matrix\n",
    "print('The decision matrix:')\n",
    "print(tb.tabulate(dm.dm_df, headers='keys', tablefmt='pretty'))"
   ]
  },
  {
   "cell_type": "code",
   "execution_count": null,
   "metadata": {},
   "outputs": [],
   "source": []
  },
  {
   "cell_type": "markdown",
   "metadata": {},
   "source": [
    "### Groups – Bike performance at differnt Places Example City, Rural, ..."
   ]
  },
  {
   "cell_type": "markdown",
   "metadata": {},
   "source": [
    "### UNcertainy - ..."
   ]
  },
  {
   "cell_type": "markdown",
   "metadata": {},
   "source": []
  }
 ],
 "metadata": {
  "kernelspec": {
   "display_name": "climada_env",
   "language": "python",
   "name": "python3"
  },
  "language_info": {
   "codemirror_mode": {
    "name": "ipython",
    "version": 3
   },
   "file_extension": ".py",
   "mimetype": "text/x-python",
   "name": "python",
   "nbconvert_exporter": "python",
   "pygments_lexer": "ipython3",
   "version": "3.9.18"
  }
 },
 "nbformat": 4,
 "nbformat_minor": 2
}
